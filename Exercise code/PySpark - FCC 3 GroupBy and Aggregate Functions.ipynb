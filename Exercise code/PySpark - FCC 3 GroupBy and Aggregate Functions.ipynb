{
 "cells": [
  {
   "cell_type": "markdown",
   "id": "b672032b",
   "metadata": {},
   "source": [
    "# PySpark 03 GroupBy and Aggregate Functions\n",
    "\n",
    "**Summary** \n"
   ]
  },
  {
   "cell_type": "markdown",
   "id": "0cadd977",
   "metadata": {},
   "source": [
    "### Setup"
   ]
  },
  {
   "cell_type": "code",
   "execution_count": 1,
   "id": "047b8bae",
   "metadata": {},
   "outputs": [
    {
     "data": {
      "text/html": [
       "\n",
       "            <div>\n",
       "                <p><b>SparkSession - in-memory</b></p>\n",
       "                \n",
       "        <div>\n",
       "            <p><b>SparkContext</b></p>\n",
       "\n",
       "            <p><a href=\"http://DESKTOP-B85K7A6:4041\">Spark UI</a></p>\n",
       "\n",
       "            <dl>\n",
       "              <dt>Version</dt>\n",
       "                <dd><code>v3.2.0</code></dd>\n",
       "              <dt>Master</dt>\n",
       "                <dd><code>local[*]</code></dd>\n",
       "              <dt>AppName</dt>\n",
       "                <dd><code>GroupByPractice</code></dd>\n",
       "            </dl>\n",
       "        </div>\n",
       "        \n",
       "            </div>\n",
       "        "
      ],
      "text/plain": [
       "<pyspark.sql.session.SparkSession at 0x2c7060fb760>"
      ]
     },
     "execution_count": 1,
     "metadata": {},
     "output_type": "execute_result"
    }
   ],
   "source": [
    "import os\n",
    "import pyspark\n",
    "from pyspark.sql import SparkSession\n",
    "\n",
    "spark = SparkSession.builder.appName('GroupByPractice').getOrCreate()\n",
    "spark"
   ]
  },
  {
   "cell_type": "markdown",
   "id": "dc70bf38",
   "metadata": {},
   "source": [
    "### Load"
   ]
  },
  {
   "cell_type": "code",
   "execution_count": 2,
   "id": "1f4f0689",
   "metadata": {},
   "outputs": [
    {
     "data": {
      "text/plain": [
       "DataFrame[EMPLOYEE_ID: int, FIRST_NAME: string, LAST_NAME: string, EMAIL: string, PHONE_NUMBER: string, HIRE_DATE: string, JOB_ID: string, SALARY: int, COMMISSION_PCT: string, MANAGER_ID: string, DEPARTMENT_ID: int]"
      ]
     },
     "execution_count": 2,
     "metadata": {},
     "output_type": "execute_result"
    }
   ],
   "source": [
    "# read the dataset\n",
    "ROOT = \"C:\\\\Users\\\\PySpark\\\\\"\n",
    "FILE = \"./employees.csv\"\n",
    "df = spark.read.csv(ROOT+FILE, header=True, inferSchema=True)\n",
    "df"
   ]
  },
  {
   "cell_type": "code",
   "execution_count": 3,
   "id": "b942f21c",
   "metadata": {},
   "outputs": [
    {
     "name": "stdout",
     "output_type": "stream",
     "text": [
      "root\n",
      " |-- EMPLOYEE_ID: integer (nullable = true)\n",
      " |-- FIRST_NAME: string (nullable = true)\n",
      " |-- LAST_NAME: string (nullable = true)\n",
      " |-- EMAIL: string (nullable = true)\n",
      " |-- PHONE_NUMBER: string (nullable = true)\n",
      " |-- HIRE_DATE: string (nullable = true)\n",
      " |-- JOB_ID: string (nullable = true)\n",
      " |-- SALARY: integer (nullable = true)\n",
      " |-- COMMISSION_PCT: string (nullable = true)\n",
      " |-- MANAGER_ID: string (nullable = true)\n",
      " |-- DEPARTMENT_ID: integer (nullable = true)\n",
      "\n"
     ]
    }
   ],
   "source": [
    "df.printSchema()"
   ]
  },
  {
   "cell_type": "code",
   "execution_count": 7,
   "id": "3507b2f7",
   "metadata": {},
   "outputs": [
    {
     "name": "stdout",
     "output_type": "stream",
     "text": [
      "+-----------+----------+---------+--------+------------+---------+----------+------+--------------+----------+-------------+\n",
      "|EMPLOYEE_ID|FIRST_NAME|LAST_NAME|   EMAIL|PHONE_NUMBER|HIRE_DATE|    JOB_ID|SALARY|COMMISSION_PCT|MANAGER_ID|DEPARTMENT_ID|\n",
      "+-----------+----------+---------+--------+------------+---------+----------+------+--------------+----------+-------------+\n",
      "|        198|    Donald| OConnell|DOCONNEL|650.507.9833|21-JUN-07|  SH_CLERK|  2600|            - |       124|           50|\n",
      "|        199|   Douglas|    Grant|  DGRANT|650.507.9844|13-JAN-08|  SH_CLERK|  2600|            - |       124|           50|\n",
      "|        200|  Jennifer|   Whalen| JWHALEN|515.123.4444|17-SEP-03|   AD_ASST|  4400|            - |       101|           10|\n",
      "|        201|   Michael|Hartstein|MHARTSTE|515.123.5555|17-FEB-04|    MK_MAN| 13000|            - |       100|           20|\n",
      "|        202|       Pat|      Fay|    PFAY|603.123.6666|17-AUG-05|    MK_REP|  6000|            - |       201|           20|\n",
      "|        203|     Susan|   Mavris| SMAVRIS|515.123.7777|07-JUN-02|    HR_REP|  6500|            - |       101|           40|\n",
      "|        204|   Hermann|     Baer|   HBAER|515.123.8888|07-JUN-02|    PR_REP| 10000|            - |       101|           70|\n",
      "|        205|   Shelley|  Higgins|SHIGGINS|515.123.8080|07-JUN-02|    AC_MGR| 12008|            - |       101|          110|\n",
      "|        206|   William|    Gietz|  WGIETZ|515.123.8181|07-JUN-02|AC_ACCOUNT|  8300|            - |       205|          110|\n",
      "|        100|    Steven|     King|   SKING|515.123.4567|17-JUN-03|   AD_PRES| 24000|            - |        - |           90|\n",
      "|        101|     Neena|  Kochhar|NKOCHHAR|515.123.4568|21-SEP-05|     AD_VP| 17000|            - |       100|           90|\n",
      "|        102|       Lex|  De Haan| LDEHAAN|515.123.4569|13-JAN-01|     AD_VP| 17000|            - |       100|           90|\n",
      "|        103| Alexander|   Hunold| AHUNOLD|590.423.4567|03-JAN-06|   IT_PROG|  9000|            - |       102|           60|\n",
      "|        104|     Bruce|    Ernst|  BERNST|590.423.4568|21-MAY-07|   IT_PROG|  6000|            - |       103|           60|\n",
      "|        105|     David|   Austin| DAUSTIN|590.423.4569|25-JUN-05|   IT_PROG|  4800|            - |       103|           60|\n",
      "|        106|     Valli|Pataballa|VPATABAL|590.423.4560|05-FEB-06|   IT_PROG|  4800|            - |       103|           60|\n",
      "|        107|     Diana|  Lorentz|DLORENTZ|590.423.5567|07-FEB-07|   IT_PROG|  4200|            - |       103|           60|\n",
      "|        108|     Nancy|Greenberg|NGREENBE|515.124.4569|17-AUG-02|    FI_MGR| 12008|            - |       101|          100|\n",
      "|        109|    Daniel|   Faviet| DFAVIET|515.124.4169|16-AUG-02|FI_ACCOUNT|  9000|            - |       108|          100|\n",
      "|        110|      John|     Chen|   JCHEN|515.124.4269|28-SEP-05|FI_ACCOUNT|  8200|            - |       108|          100|\n",
      "+-----------+----------+---------+--------+------------+---------+----------+------+--------------+----------+-------------+\n",
      "only showing top 20 rows\n",
      "\n"
     ]
    }
   ],
   "source": [
    "df.show()"
   ]
  },
  {
   "cell_type": "markdown",
   "id": "abfd0190",
   "metadata": {},
   "source": [
    "## 1. GroupBy\n",
    "\n",
    "**Syntax**  \n",
    "\n",
    "- `df.groupBy('col')`\n",
    "  - `.min()`\n",
    "  - `.max()`\n",
    "  - `.avg()`\n",
    "  - `.count()` ..."
   ]
  },
  {
   "cell_type": "code",
   "execution_count": 12,
   "id": "0c0167d2",
   "metadata": {},
   "outputs": [
    {
     "name": "stdout",
     "output_type": "stream",
     "text": [
      "+-------------+-----------+\n",
      "|DEPARTMENT_ID|sum(SALARY)|\n",
      "+-------------+-----------+\n",
      "|           20|      19000|\n",
      "|           40|       6500|\n",
      "|          100|      51608|\n",
      "|           10|       4400|\n",
      "|           50|      85600|\n",
      "|           70|      10000|\n",
      "|           90|      58000|\n",
      "|           60|      28800|\n",
      "|          110|      20308|\n",
      "|           30|      24900|\n",
      "+-------------+-----------+\n",
      "\n"
     ]
    }
   ],
   "source": [
    "df.groupBy('DEPARTMENT_ID').sum().select('DEPARTMENT_ID', 'sum(SALARY)').show()"
   ]
  },
  {
   "cell_type": "code",
   "execution_count": 18,
   "id": "7c2e90e2",
   "metadata": {},
   "outputs": [
    {
     "name": "stdout",
     "output_type": "stream",
     "text": [
      "+-------------+-----+\n",
      "|DEPARTMENT_ID|count|\n",
      "+-------------+-----+\n",
      "|           20|    2|\n",
      "|           40|    1|\n",
      "|          100|    6|\n",
      "|           10|    1|\n",
      "|           50|   23|\n",
      "|           70|    1|\n",
      "|           90|    3|\n",
      "|           60|    5|\n",
      "|          110|    2|\n",
      "|           30|    6|\n",
      "+-------------+-----+\n",
      "\n"
     ]
    }
   ],
   "source": [
    "df.groupBy('DEPARTMENT_ID').count().show()"
   ]
  },
  {
   "cell_type": "code",
   "execution_count": 15,
   "id": "1cc8844b",
   "metadata": {},
   "outputs": [
    {
     "name": "stdout",
     "output_type": "stream",
     "text": [
      "+-------------+------------------+------------------+------------------+\n",
      "|DEPARTMENT_ID|  avg(EMPLOYEE_ID)|       avg(SALARY)|avg(DEPARTMENT_ID)|\n",
      "+-------------+------------------+------------------+------------------+\n",
      "|           20|             201.5|            9500.0|              20.0|\n",
      "|           40|             203.0|            6500.0|              40.0|\n",
      "|          100|             110.5| 8601.333333333334|             100.0|\n",
      "|           10|             200.0|            4400.0|              10.0|\n",
      "|           50|135.95652173913044|3721.7391304347825|              50.0|\n",
      "|           70|             204.0|           10000.0|              70.0|\n",
      "|           90|             101.0|19333.333333333332|              90.0|\n",
      "|           60|             105.0|            5760.0|              60.0|\n",
      "|          110|             205.5|           10154.0|             110.0|\n",
      "|           30|             116.5|            4150.0|              30.0|\n",
      "+-------------+------------------+------------------+------------------+\n",
      "\n"
     ]
    }
   ],
   "source": [
    "df.groupBy('DEPARTMENT_ID').mean().show()"
   ]
  },
  {
   "cell_type": "code",
   "execution_count": 19,
   "id": "cad42638",
   "metadata": {},
   "outputs": [
    {
     "name": "stdout",
     "output_type": "stream",
     "text": [
      "+-----------+\n",
      "|sum(SALARY)|\n",
      "+-----------+\n",
      "|     309116|\n",
      "+-----------+\n",
      "\n"
     ]
    }
   ],
   "source": [
    "df.agg({'SALARY':'sum'}).show()"
   ]
  },
  {
   "cell_type": "code",
   "execution_count": 21,
   "id": "3f3aa5da",
   "metadata": {},
   "outputs": [
    {
     "name": "stdout",
     "output_type": "stream",
     "text": [
      "+-------------+----------------+-----------+------------------+\n",
      "|DEPARTMENT_ID|max(EMPLOYEE_ID)|max(SALARY)|max(DEPARTMENT_ID)|\n",
      "+-------------+----------------+-----------+------------------+\n",
      "|           20|             202|      13000|                20|\n",
      "|           40|             203|       6500|                40|\n",
      "|          100|             113|      12008|               100|\n",
      "|           10|             200|       4400|                10|\n",
      "|           50|             199|       8200|                50|\n",
      "|           70|             204|      10000|                70|\n",
      "|           90|             102|      24000|                90|\n",
      "|           60|             107|       9000|                60|\n",
      "|          110|             206|      12008|               110|\n",
      "|           30|             119|      11000|                30|\n",
      "+-------------+----------------+-----------+------------------+\n",
      "\n"
     ]
    }
   ],
   "source": [
    "df.groupBy('DEPARTMENT_ID').max().show()"
   ]
  },
  {
   "cell_type": "code",
   "execution_count": 22,
   "id": "270bbab7",
   "metadata": {},
   "outputs": [
    {
     "name": "stdout",
     "output_type": "stream",
     "text": [
      "+-------------+----------------+-----------+------------------+\n",
      "|DEPARTMENT_ID|min(EMPLOYEE_ID)|min(SALARY)|min(DEPARTMENT_ID)|\n",
      "+-------------+----------------+-----------+------------------+\n",
      "|           20|             201|       6000|                20|\n",
      "|           40|             203|       6500|                40|\n",
      "|          100|             108|       6900|               100|\n",
      "|           10|             200|       4400|                10|\n",
      "|           50|             120|       2100|                50|\n",
      "|           70|             204|      10000|                70|\n",
      "|           90|             100|      17000|                90|\n",
      "|           60|             103|       4200|                60|\n",
      "|          110|             205|       8300|               110|\n",
      "|           30|             114|       2500|                30|\n",
      "+-------------+----------------+-----------+------------------+\n",
      "\n"
     ]
    }
   ],
   "source": [
    "df.groupBy('DEPARTMENT_ID').min().show()"
   ]
  },
  {
   "cell_type": "code",
   "execution_count": 23,
   "id": "34a0dada",
   "metadata": {},
   "outputs": [
    {
     "name": "stdout",
     "output_type": "stream",
     "text": [
      "+-------------+------------------+------------------+------------------+\n",
      "|DEPARTMENT_ID|  avg(EMPLOYEE_ID)|       avg(SALARY)|avg(DEPARTMENT_ID)|\n",
      "+-------------+------------------+------------------+------------------+\n",
      "|           20|             201.5|            9500.0|              20.0|\n",
      "|           40|             203.0|            6500.0|              40.0|\n",
      "|          100|             110.5| 8601.333333333334|             100.0|\n",
      "|           10|             200.0|            4400.0|              10.0|\n",
      "|           50|135.95652173913044|3721.7391304347825|              50.0|\n",
      "|           70|             204.0|           10000.0|              70.0|\n",
      "|           90|             101.0|19333.333333333332|              90.0|\n",
      "|           60|             105.0|            5760.0|              60.0|\n",
      "|          110|             205.5|           10154.0|             110.0|\n",
      "|           30|             116.5|            4150.0|              30.0|\n",
      "+-------------+------------------+------------------+------------------+\n",
      "\n"
     ]
    }
   ],
   "source": [
    "df.groupBy('DEPARTMENT_ID').avg().show()"
   ]
  }
 ],
 "metadata": {
  "kernelspec": {
   "display_name": "Python 3 (ipykernel)",
   "language": "python",
   "name": "python3"
  },
  "language_info": {
   "codemirror_mode": {
    "name": "ipython",
    "version": 3
   },
   "file_extension": ".py",
   "mimetype": "text/x-python",
   "name": "python",
   "nbconvert_exporter": "python",
   "pygments_lexer": "ipython3",
   "version": "3.9.7"
  }
 },
 "nbformat": 4,
 "nbformat_minor": 5
}
