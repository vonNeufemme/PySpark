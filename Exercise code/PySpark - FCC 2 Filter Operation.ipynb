{
 "cells": [
  {
   "cell_type": "markdown",
   "id": "b672032b",
   "metadata": {},
   "source": [
    "# PySpark 02 Filter operation\n",
    "\n",
    "**Summary** \n",
    "- Filter operation\n",
    "- &, |, ==\n",
    "- ~"
   ]
  },
  {
   "cell_type": "markdown",
   "id": "0cadd977",
   "metadata": {},
   "source": [
    "### Setup"
   ]
  },
  {
   "cell_type": "code",
   "execution_count": 2,
   "id": "633ca557",
   "metadata": {},
   "outputs": [
    {
     "data": {
      "text/html": [
       "\n",
       "            <div>\n",
       "                <p><b>SparkSession - in-memory</b></p>\n",
       "                \n",
       "        <div>\n",
       "            <p><b>SparkContext</b></p>\n",
       "\n",
       "            <p><a href=\"http://DESKTOP-B85K7A6:4040\">Spark UI</a></p>\n",
       "\n",
       "            <dl>\n",
       "              <dt>Version</dt>\n",
       "                <dd><code>v3.2.0</code></dd>\n",
       "              <dt>Master</dt>\n",
       "                <dd><code>local[*]</code></dd>\n",
       "              <dt>AppName</dt>\n",
       "                <dd><code>filterOps</code></dd>\n",
       "            </dl>\n",
       "        </div>\n",
       "        \n",
       "            </div>\n",
       "        "
      ],
      "text/plain": [
       "<pyspark.sql.session.SparkSession at 0x134d4ceb670>"
      ]
     },
     "execution_count": 2,
     "metadata": {},
     "output_type": "execute_result"
    }
   ],
   "source": [
    "import os\n",
    "import pyspark\n",
    "from pyspark.sql import SparkSession\n",
    "spark = SparkSession.builder.appName(\"filterOps\").getOrCreate()\n",
    "spark"
   ]
  },
  {
   "cell_type": "markdown",
   "id": "dc70bf38",
   "metadata": {},
   "source": [
    "### Load"
   ]
  },
  {
   "cell_type": "code",
   "execution_count": 22,
   "id": "1f4f0689",
   "metadata": {},
   "outputs": [
    {
     "data": {
      "text/plain": [
       "DataFrame[EMPLOYEE_ID: int, FIRST_NAME: string, LAST_NAME: string, EMAIL: string, PHONE_NUMBER: string, HIRE_DATE: string, JOB_ID: string, SALARY: int, COMMISSION_PCT: string, MANAGER_ID: string, DEPARTMENT_ID: int]"
      ]
     },
     "execution_count": 22,
     "metadata": {},
     "output_type": "execute_result"
    }
   ],
   "source": [
    "# read the dataset\n",
    "ROOT = \"C:\\\\Users\\\\PySpark\\\\\"\n",
    "FILE = \"./employees.csv\"\n",
    "df = spark.read.csv(ROOT+FILE, header=True, inferSchema=True)\n",
    "df"
   ]
  },
  {
   "cell_type": "code",
   "execution_count": 23,
   "id": "2a1e98e9",
   "metadata": {},
   "outputs": [
    {
     "name": "stdout",
     "output_type": "stream",
     "text": [
      "+-----------+----------+---------+--------+------------+---------+----------+------+--------------+----------+-------------+\n",
      "|EMPLOYEE_ID|FIRST_NAME|LAST_NAME|   EMAIL|PHONE_NUMBER|HIRE_DATE|    JOB_ID|SALARY|COMMISSION_PCT|MANAGER_ID|DEPARTMENT_ID|\n",
      "+-----------+----------+---------+--------+------------+---------+----------+------+--------------+----------+-------------+\n",
      "|        198|    Donald| OConnell|DOCONNEL|650.507.9833|21-JUN-07|  SH_CLERK|  2600|            - |       124|           50|\n",
      "|        199|   Douglas|    Grant|  DGRANT|650.507.9844|13-JAN-08|  SH_CLERK|  2600|            - |       124|           50|\n",
      "|        200|  Jennifer|   Whalen| JWHALEN|515.123.4444|17-SEP-03|   AD_ASST|  4400|            - |       101|           10|\n",
      "|        201|   Michael|Hartstein|MHARTSTE|515.123.5555|17-FEB-04|    MK_MAN| 13000|            - |       100|           20|\n",
      "|        202|       Pat|      Fay|    PFAY|603.123.6666|17-AUG-05|    MK_REP|  6000|            - |       201|           20|\n",
      "|        203|     Susan|   Mavris| SMAVRIS|515.123.7777|07-JUN-02|    HR_REP|  6500|            - |       101|           40|\n",
      "|        204|   Hermann|     Baer|   HBAER|515.123.8888|07-JUN-02|    PR_REP| 10000|            - |       101|           70|\n",
      "|        205|   Shelley|  Higgins|SHIGGINS|515.123.8080|07-JUN-02|    AC_MGR| 12008|            - |       101|          110|\n",
      "|        206|   William|    Gietz|  WGIETZ|515.123.8181|07-JUN-02|AC_ACCOUNT|  8300|            - |       205|          110|\n",
      "|        100|    Steven|     King|   SKING|515.123.4567|17-JUN-03|   AD_PRES| 24000|            - |        - |           90|\n",
      "|        101|     Neena|  Kochhar|NKOCHHAR|515.123.4568|21-SEP-05|     AD_VP| 17000|            - |       100|           90|\n",
      "|        102|       Lex|  De Haan| LDEHAAN|515.123.4569|13-JAN-01|     AD_VP| 17000|            - |       100|           90|\n",
      "|        103| Alexander|   Hunold| AHUNOLD|590.423.4567|03-JAN-06|   IT_PROG|  9000|            - |       102|           60|\n",
      "|        104|     Bruce|    Ernst|  BERNST|590.423.4568|21-MAY-07|   IT_PROG|  6000|            - |       103|           60|\n",
      "|        105|     David|   Austin| DAUSTIN|590.423.4569|25-JUN-05|   IT_PROG|  4800|            - |       103|           60|\n",
      "|        106|     Valli|Pataballa|VPATABAL|590.423.4560|05-FEB-06|   IT_PROG|  4800|            - |       103|           60|\n",
      "|        107|     Diana|  Lorentz|DLORENTZ|590.423.5567|07-FEB-07|   IT_PROG|  4200|            - |       103|           60|\n",
      "|        108|     Nancy|Greenberg|NGREENBE|515.124.4569|17-AUG-02|    FI_MGR| 12008|            - |       101|          100|\n",
      "|        109|    Daniel|   Faviet| DFAVIET|515.124.4169|16-AUG-02|FI_ACCOUNT|  9000|            - |       108|          100|\n",
      "|        110|      John|     Chen|   JCHEN|515.124.4269|28-SEP-05|FI_ACCOUNT|  8200|            - |       108|          100|\n",
      "+-----------+----------+---------+--------+------------+---------+----------+------+--------------+----------+-------------+\n",
      "only showing top 20 rows\n",
      "\n"
     ]
    }
   ],
   "source": [
    "df.show()"
   ]
  },
  {
   "cell_type": "markdown",
   "id": "abfd0190",
   "metadata": {},
   "source": [
    "## 1. Filter by condition\n",
    "\n",
    "**Examples**\n",
    "\n",
    "- Salary of people less than 20,000\n",
    "\n",
    "**Syntax**  \n",
    "\n",
    "- `df.filter('column <= 20000')`\n",
    "- `df.filter('column condition').select('col1', 'col2', ...)`\n",
    "- `df.filter(df['col'] <= value)`\n",
    "- `df.filter( (cond1) & (cond2) & ... ).select('col1', 'col2', ...)`    >> `&`, `|`\n",
    "- `df.filter( ~(cond1) | ~(cond2) | ... ).select('col1', 'col2', ...)`    >> `&`, `|`"
   ]
  },
  {
   "cell_type": "code",
   "execution_count": 34,
   "id": "0c0167d2",
   "metadata": {},
   "outputs": [
    {
     "name": "stdout",
     "output_type": "stream",
     "text": [
      "+-----------+----------+---------+-----+------------+---------+-------+------+--------------+----------+-------------+\n",
      "|EMPLOYEE_ID|FIRST_NAME|LAST_NAME|EMAIL|PHONE_NUMBER|HIRE_DATE| JOB_ID|SALARY|COMMISSION_PCT|MANAGER_ID|DEPARTMENT_ID|\n",
      "+-----------+----------+---------+-----+------------+---------+-------+------+--------------+----------+-------------+\n",
      "|        100|    Steven|     King|SKING|515.123.4567|17-JUN-03|AD_PRES| 24000|            - |        - |           90|\n",
      "+-----------+----------+---------+-----+------------+---------+-------+------+--------------+----------+-------------+\n",
      "\n",
      "+----------+-------+------+\n",
      "|FIRST_NAME| JOB_ID|SALARY|\n",
      "+----------+-------+------+\n",
      "|    Steven|AD_PRES| 24000|\n",
      "+----------+-------+------+\n",
      "\n"
     ]
    }
   ],
   "source": [
    "# numerical value comparison \n",
    "\n",
    "df.filter('SALARY >= 20000').show()\n",
    "df.filter('SALARY >= 20000').select('FIRST_NAME', 'JOB_ID', 'SALARY').show()"
   ]
  },
  {
   "cell_type": "code",
   "execution_count": 41,
   "id": "1cc8844b",
   "metadata": {},
   "outputs": [
    {
     "name": "stdout",
     "output_type": "stream",
     "text": [
      "+----------+------+------+\n",
      "|FIRST_NAME|JOB_ID|SALARY|\n",
      "+----------+------+------+\n",
      "|   Michael|MK_MAN| 13000|\n",
      "|   Hermann|PR_REP| 10000|\n",
      "|   Shelley|AC_MGR| 12008|\n",
      "|     Neena| AD_VP| 17000|\n",
      "|       Lex| AD_VP| 17000|\n",
      "|     Nancy|FI_MGR| 12008|\n",
      "|       Den|PU_MAN| 11000|\n",
      "+----------+------+------+\n",
      "\n"
     ]
    }
   ],
   "source": [
    "df.filter((df['SALARY'] >= 10000) & \n",
    "          (df['SALARY'] <= 20000)).select('FIRST_NAME', 'JOB_ID', 'SALARY').show()"
   ]
  },
  {
   "cell_type": "code",
   "execution_count": 44,
   "id": "cad42638",
   "metadata": {},
   "outputs": [
    {
     "name": "stdout",
     "output_type": "stream",
     "text": [
      "+-----------+----------+------+\n",
      "| FIRST_NAME|    JOB_ID|SALARY|\n",
      "+-----------+----------+------+\n",
      "|     Donald|  SH_CLERK|  2600|\n",
      "|    Douglas|  SH_CLERK|  2600|\n",
      "|   Jennifer|   AD_ASST|  4400|\n",
      "|        Pat|    MK_REP|  6000|\n",
      "|      Susan|    HR_REP|  6500|\n",
      "|    William|AC_ACCOUNT|  8300|\n",
      "|     Steven|   AD_PRES| 24000|\n",
      "|  Alexander|   IT_PROG|  9000|\n",
      "|      Bruce|   IT_PROG|  6000|\n",
      "|      David|   IT_PROG|  4800|\n",
      "|      Valli|   IT_PROG|  4800|\n",
      "|      Diana|   IT_PROG|  4200|\n",
      "|     Daniel|FI_ACCOUNT|  9000|\n",
      "|       John|FI_ACCOUNT|  8200|\n",
      "|     Ismael|FI_ACCOUNT|  7700|\n",
      "|Jose Manuel|FI_ACCOUNT|  7800|\n",
      "|       Luis|FI_ACCOUNT|  6900|\n",
      "|  Alexander|  PU_CLERK|  3100|\n",
      "|     Shelli|  PU_CLERK|  2900|\n",
      "|      Sigal|  PU_CLERK|  2800|\n",
      "+-----------+----------+------+\n",
      "only showing top 20 rows\n",
      "\n"
     ]
    }
   ],
   "source": [
    "df.filter(~(df['SALARY'] >= 10000) | \n",
    "          ~(df['SALARY'] <= 20000)).select('FIRST_NAME', 'JOB_ID', 'SALARY').show()"
   ]
  }
 ],
 "metadata": {
  "kernelspec": {
   "display_name": "Python 3 (ipykernel)",
   "language": "python",
   "name": "python3"
  },
  "language_info": {
   "codemirror_mode": {
    "name": "ipython",
    "version": 3
   },
   "file_extension": ".py",
   "mimetype": "text/x-python",
   "name": "python",
   "nbconvert_exporter": "python",
   "pygments_lexer": "ipython3",
   "version": "3.9.7"
  }
 },
 "nbformat": 4,
 "nbformat_minor": 5
}
