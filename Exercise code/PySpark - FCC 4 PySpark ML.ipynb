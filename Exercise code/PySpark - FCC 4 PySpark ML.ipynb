{
 "cells": [
  {
   "cell_type": "markdown",
   "id": "b672032b",
   "metadata": {},
   "source": [
    "# PySpark 04 PySpark ML\n",
    "\n",
    "**Summary** \n"
   ]
  },
  {
   "cell_type": "markdown",
   "id": "0cadd977",
   "metadata": {},
   "source": [
    "### Setup"
   ]
  },
  {
   "cell_type": "code",
   "execution_count": 46,
   "id": "047b8bae",
   "metadata": {},
   "outputs": [
    {
     "data": {
      "text/html": [
       "\n",
       "            <div>\n",
       "                <p><b>SparkSession - in-memory</b></p>\n",
       "                \n",
       "        <div>\n",
       "            <p><b>SparkContext</b></p>\n",
       "\n",
       "            <p><a href=\"http://DESKTOP-B85K7A6:4042\">Spark UI</a></p>\n",
       "\n",
       "            <dl>\n",
       "              <dt>Version</dt>\n",
       "                <dd><code>v3.2.0</code></dd>\n",
       "              <dt>Master</dt>\n",
       "                <dd><code>local[*]</code></dd>\n",
       "              <dt>AppName</dt>\n",
       "                <dd><code>pysparkML</code></dd>\n",
       "            </dl>\n",
       "        </div>\n",
       "        \n",
       "            </div>\n",
       "        "
      ],
      "text/plain": [
       "<pyspark.sql.session.SparkSession at 0x14e36feb760>"
      ]
     },
     "execution_count": 46,
     "metadata": {},
     "output_type": "execute_result"
    }
   ],
   "source": [
    "import os \n",
    "import pyspark\n",
    "from pyspark.sql import SparkSession\n",
    "\n",
    "spark = SparkSession.builder.appName('pysparkML').getOrCreate()\n",
    "spark"
   ]
  },
  {
   "cell_type": "markdown",
   "id": "dc70bf38",
   "metadata": {},
   "source": [
    "### Load"
   ]
  },
  {
   "cell_type": "code",
   "execution_count": 47,
   "id": "1f4f0689",
   "metadata": {},
   "outputs": [
    {
     "data": {
      "text/plain": [
       "DataFrame[Name: string, age: int, Experience: int, Salary: int]"
      ]
     },
     "execution_count": 47,
     "metadata": {},
     "output_type": "execute_result"
    }
   ],
   "source": [
    "# read the dataset\n",
    "ROOT = \"C:\\\\Users\\\\0woo0\\\\OneDrive\\\\바탕 화면\\\\PySpark\\\\\"\n",
    "FILE = \"./train.csv\"\n",
    "train = spark.read.csv(ROOT+FILE, header=True, inferSchema=True)\n",
    "train"
   ]
  },
  {
   "cell_type": "code",
   "execution_count": 50,
   "id": "5c33d271",
   "metadata": {},
   "outputs": [
    {
     "name": "stdout",
     "output_type": "stream",
     "text": [
      "root\n",
      " |-- Name: string (nullable = true)\n",
      " |-- age: integer (nullable = true)\n",
      " |-- Experience: integer (nullable = true)\n",
      " |-- Salary: integer (nullable = true)\n",
      "\n"
     ]
    }
   ],
   "source": [
    "train.printSchema()"
   ]
  },
  {
   "cell_type": "code",
   "execution_count": 51,
   "id": "8d50a796",
   "metadata": {},
   "outputs": [
    {
     "name": "stdout",
     "output_type": "stream",
     "text": [
      "+---------+---+----------+------+\n",
      "|     Name|age|Experience|Salary|\n",
      "+---------+---+----------+------+\n",
      "|    Krish| 31|        10| 30000|\n",
      "|Sudhanshu| 30|         8| 25000|\n",
      "|    Sunny| 29|         4| 20000|\n",
      "|     Paul| 24|         3| 20000|\n",
      "|   Harsha| 21|         1| 15000|\n",
      "|  Shubham| 23|         2| 18000|\n",
      "+---------+---+----------+------+\n",
      "\n"
     ]
    }
   ],
   "source": [
    "train.show()"
   ]
  },
  {
   "cell_type": "markdown",
   "id": "abfd0190",
   "metadata": {},
   "source": [
    "## 1. Linear Regression\n",
    "\n",
    "**Syntax**  \n",
    "\n",
    "- `from pyspark.ml.feature import VectorAssembler`\n",
    "  - `va = VectorAssembler(inputCols=['col1', 'col2', ... ], outputCol='colx')`\n",
    "  - `output = va.transform(train_df)`\n",
    "  \n",
    "- `from pyspark.ml.regression import LinearRegression`\n",
    "  - `train, test = finalised_data.randomSplit([0.75, 0.25])`\n",
    "  - `reg = LinearRegression(featuresCol='features', labelCol='Salary')`\n",
    "  - `reg = reg.fit(train)`\n",
    "  - `result = reg.evaluate(test)`\n",
    "    - `result.predictions`\n",
    "    - `result.meanAbsoluteError`\n",
    "    - `result.meanSquaredError`"
   ]
  },
  {
   "cell_type": "code",
   "execution_count": 52,
   "id": "08abfd20",
   "metadata": {},
   "outputs": [
    {
     "data": {
      "text/plain": [
       "['Name', 'age', 'Experience', 'Salary']"
      ]
     },
     "execution_count": 52,
     "metadata": {},
     "output_type": "execute_result"
    }
   ],
   "source": [
    "train.columns"
   ]
  },
  {
   "cell_type": "code",
   "execution_count": 54,
   "id": "d56afff1",
   "metadata": {},
   "outputs": [
    {
     "name": "stdout",
     "output_type": "stream",
     "text": [
      "+---------+---+----------+------+-----------+\n",
      "|     Name|age|Experience|Salary|   features|\n",
      "+---------+---+----------+------+-----------+\n",
      "|    Krish| 31|        10| 30000|[31.0,10.0]|\n",
      "|Sudhanshu| 30|         8| 25000| [30.0,8.0]|\n",
      "|    Sunny| 29|         4| 20000| [29.0,4.0]|\n",
      "|     Paul| 24|         3| 20000| [24.0,3.0]|\n",
      "|   Harsha| 21|         1| 15000| [21.0,1.0]|\n",
      "|  Shubham| 23|         2| 18000| [23.0,2.0]|\n",
      "+---------+---+----------+------+-----------+\n",
      "\n"
     ]
    }
   ],
   "source": [
    "from pyspark.ml.feature import VectorAssembler\n",
    "va = VectorAssembler(inputCols=['age', 'Experience'], outputCol='features')\n",
    "output = va.transform(train)\n",
    "output.show()"
   ]
  },
  {
   "cell_type": "code",
   "execution_count": 56,
   "id": "338264e7",
   "metadata": {},
   "outputs": [
    {
     "name": "stdout",
     "output_type": "stream",
     "text": [
      "+-----------+------+\n",
      "|   features|Salary|\n",
      "+-----------+------+\n",
      "|[31.0,10.0]| 30000|\n",
      "| [30.0,8.0]| 25000|\n",
      "| [29.0,4.0]| 20000|\n",
      "| [24.0,3.0]| 20000|\n",
      "| [21.0,1.0]| 15000|\n",
      "| [23.0,2.0]| 18000|\n",
      "+-----------+------+\n",
      "\n"
     ]
    }
   ],
   "source": [
    "finalised_data = output.select(\"features\", 'Salary')\n",
    "finalised_data.show()"
   ]
  },
  {
   "cell_type": "code",
   "execution_count": 58,
   "id": "cd87e493",
   "metadata": {},
   "outputs": [
    {
     "data": {
      "text/plain": [
       "LinearRegressionModel: uid=LinearRegression_8424dd89d858, numFeatures=2"
      ]
     },
     "execution_count": 58,
     "metadata": {},
     "output_type": "execute_result"
    }
   ],
   "source": [
    "from pyspark.ml.regression import LinearRegression\n",
    "\n",
    "train, test = finalised_data.randomSplit([0.75, 0.25])\n",
    "reg = LinearRegression(featuresCol='features', labelCol='Salary') # Salary is output feature.\n",
    "reg = reg.fit(train)\n",
    "reg"
   ]
  },
  {
   "cell_type": "code",
   "execution_count": 68,
   "id": "73f68568",
   "metadata": {},
   "outputs": [
    {
     "name": "stdout",
     "output_type": "stream",
     "text": [
      "+-----------+------+\n",
      "|   features|Salary|\n",
      "+-----------+------+\n",
      "| [21.0,1.0]| 15000|\n",
      "| [23.0,2.0]| 18000|\n",
      "| [24.0,3.0]| 20000|\n",
      "| [30.0,8.0]| 25000|\n",
      "|[31.0,10.0]| 30000|\n",
      "+-----------+------+\n",
      "\n",
      "+----------+------+\n",
      "|  features|Salary|\n",
      "+----------+------+\n",
      "|[29.0,4.0]| 20000|\n",
      "+----------+------+\n",
      "\n"
     ]
    },
    {
     "data": {
      "text/plain": [
       "(None, None)"
      ]
     },
     "execution_count": 68,
     "metadata": {},
     "output_type": "execute_result"
    }
   ],
   "source": [
    "train.show(), test.show()"
   ]
  },
  {
   "cell_type": "code",
   "execution_count": 59,
   "id": "32231894",
   "metadata": {},
   "outputs": [
    {
     "data": {
      "text/plain": [
       "19919.060052212404"
      ]
     },
     "execution_count": 59,
     "metadata": {},
     "output_type": "execute_result"
    }
   ],
   "source": [
    "reg.intercept"
   ]
  },
  {
   "cell_type": "code",
   "execution_count": 61,
   "id": "974fc09f",
   "metadata": {},
   "outputs": [
    {
     "data": {
      "text/plain": [
       "<pyspark.ml.regression.LinearRegressionSummary at 0x14e38487370>"
      ]
     },
     "execution_count": 61,
     "metadata": {},
     "output_type": "execute_result"
    }
   ],
   "source": [
    "result = reg.evaluate(test)\n",
    "result"
   ]
  },
  {
   "cell_type": "code",
   "execution_count": 64,
   "id": "90140eea",
   "metadata": {},
   "outputs": [
    {
     "name": "stdout",
     "output_type": "stream",
     "text": [
      "+----------+------+-----------------+\n",
      "|  features|Salary|       prediction|\n",
      "+----------+------+-----------------+\n",
      "|[29.0,4.0]| 20000|19342.03655352618|\n",
      "+----------+------+-----------------+\n",
      "\n"
     ]
    }
   ],
   "source": [
    "result.predictions.show()"
   ]
  },
  {
   "cell_type": "code",
   "execution_count": 70,
   "id": "4d3b9286",
   "metadata": {},
   "outputs": [
    {
     "data": {
      "text/plain": [
       "(657.9634464738192, 432915.89689570636)"
      ]
     },
     "execution_count": 70,
     "metadata": {},
     "output_type": "execute_result"
    }
   ],
   "source": [
    "result.meanAbsoluteError, result.meanSquaredError"
   ]
  }
 ],
 "metadata": {
  "kernelspec": {
   "display_name": "Python 3 (ipykernel)",
   "language": "python",
   "name": "python3"
  },
  "language_info": {
   "codemirror_mode": {
    "name": "ipython",
    "version": 3
   },
   "file_extension": ".py",
   "mimetype": "text/x-python",
   "name": "python",
   "nbconvert_exporter": "python",
   "pygments_lexer": "ipython3",
   "version": "3.9.7"
  }
 },
 "nbformat": 4,
 "nbformat_minor": 5
}
