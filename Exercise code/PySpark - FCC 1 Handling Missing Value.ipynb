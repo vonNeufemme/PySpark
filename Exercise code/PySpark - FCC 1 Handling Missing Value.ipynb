{
 "cells": [
  {
   "cell_type": "markdown",
   "id": "b672032b",
   "metadata": {},
   "source": [
    "# PySpark 01 Handling Missing Values\n",
    "\n",
    "**Summary** \n",
    "- Dropping columns\n",
    "- Dropping rows\n",
    "- Parameters of drop function\n",
    "- Handling Missing values by Mean, Median, and Mode "
   ]
  },
  {
   "cell_type": "markdown",
   "id": "0cadd977",
   "metadata": {},
   "source": [
    "### Setup"
   ]
  },
  {
   "cell_type": "code",
   "execution_count": 3,
   "id": "633ca557",
   "metadata": {},
   "outputs": [
    {
     "data": {
      "text/html": [
       "\n",
       "            <div>\n",
       "                <p><b>SparkSession - in-memory</b></p>\n",
       "                \n",
       "        <div>\n",
       "            <p><b>SparkContext</b></p>\n",
       "\n",
       "            <p><a href=\"http://DESKTOP-B85K7A6:4041\">Spark UI</a></p>\n",
       "\n",
       "            <dl>\n",
       "              <dt>Version</dt>\n",
       "                <dd><code>v3.2.0</code></dd>\n",
       "              <dt>Master</dt>\n",
       "                <dd><code>local[*]</code></dd>\n",
       "              <dt>AppName</dt>\n",
       "                <dd><code>practice</code></dd>\n",
       "            </dl>\n",
       "        </div>\n",
       "        \n",
       "            </div>\n",
       "        "
      ],
      "text/plain": [
       "<pyspark.sql.session.SparkSession at 0x20e6b61db80>"
      ]
     },
     "execution_count": 3,
     "metadata": {},
     "output_type": "execute_result"
    }
   ],
   "source": [
    "import pyspark\n",
    "from pyspark.sql import SparkSession\n",
    "\n",
    "spark = SparkSession.builder.appName('practice').getOrCreate()\n",
    "spark"
   ]
  },
  {
   "cell_type": "markdown",
   "id": "dc70bf38",
   "metadata": {},
   "source": [
    "### Load"
   ]
  },
  {
   "cell_type": "code",
   "execution_count": 68,
   "id": "1f4f0689",
   "metadata": {},
   "outputs": [
    {
     "data": {
      "text/plain": [
       "DataFrame[Country: string, Real coffee: int, Instant coffee: int, Tea: int, Sweetener: int, Biscuits: int, Powder soup: int, Tin soup: int, Potatoes: int, Frozen fish: int, Frozen veggies: int, Apples: int, Oranges: int, Tinned fruit: int, Jam: int, Garlic: int, Butter: int, Margarine: int, Olive oil: int, Yoghurt: int, Crisp bread: int]"
      ]
     },
     "execution_count": 68,
     "metadata": {},
     "output_type": "execute_result"
    }
   ],
   "source": [
    "# read the dataset\n",
    "FILE_PATH = \"C:\\\\PySpark\\\\food-consumption_missing.csv\"\n",
    "df = spark.read.csv(FILE_PATH, header=True, inferSchema=True)\n",
    "df"
   ]
  },
  {
   "cell_type": "code",
   "execution_count": 69,
   "id": "f48cf7b8",
   "metadata": {},
   "outputs": [
    {
     "data": {
      "text/plain": [
       "['Country', 'Real coffee', 'Instant coffee', 'Tea', 'Sweetener']"
      ]
     },
     "execution_count": 69,
     "metadata": {},
     "output_type": "execute_result"
    }
   ],
   "source": [
    "df.columns[:5]"
   ]
  },
  {
   "cell_type": "markdown",
   "id": "abfd0190",
   "metadata": {},
   "source": [
    "## 1. Drop column\n",
    "\n",
    "**Syntax**  \n",
    "\n",
    "- drop by:\n",
    "  - `df.drop('col1', 'col2', ...)`\n",
    "  - `df.na.drop()`\n",
    "  - `df.na.drop(how='any', thresh=None, subset=None)`\n",
    "    - If `'any'`, drop a row if it contains any nulls.\n",
    "    - If `'all'`, drop a row only if all its values are null.\n",
    "    - `thresh`: the count of missing values per record\n",
    "    - `subset`: the column by which to drop records if missing value is present.\n",
    "- treat na by:\n",
    "  - df\n",
    "  - drop\n",
    "  - fill\n",
    "  - replace"
   ]
  },
  {
   "cell_type": "code",
   "execution_count": 73,
   "id": "0c0167d2",
   "metadata": {},
   "outputs": [
    {
     "name": "stdout",
     "output_type": "stream",
     "text": [
      "+-----------+---------+-----------+--------+------------+----+------+---------+\n",
      "|    Country|Sweetener|Powder soup|Tin soup|Tinned fruit| Jam|Butter|Margarine|\n",
      "+-----------+---------+-----------+--------+------------+----+------+---------+\n",
      "|    Germany|       19|         51|      19|          44|  71|    91|       85|\n",
      "|      Italy|        2|       null|       3|           9|null|    66|     null|\n",
      "|     France|     null|         53|      11|        null|null|    94|       47|\n",
      "|    Holland|       32|       null|      43|          61|  81|    31|     null|\n",
      "|    Belgium|       11|         37|      23|        null|null|    84|     null|\n",
      "| Luxembourg|     null|         73|      12|          83|  20|    94|     null|\n",
      "|    England|       22|       null|      76|        null|  91|    95|       94|\n",
      "|   Portugal|     null|       null|       1|        null|  16|    65|       78|\n",
      "|    Austria|       15|         33|       1|          14|  41|    51|       72|\n",
      "|Switzerland|     null|       null|      10|          46|  61|    82|       48|\n",
      "|     Sweden|       31|         43|      43|          53|  75|    68|       32|\n",
      "|    Denmark|     null|         32|      17|          50|  64|    92|       91|\n",
      "|     Norway|       13|         51|       4|          34|  51|    63|       94|\n",
      "|    Finland|       20|         27|      10|          22|  37|    96|       94|\n",
      "|      Spain|     null|         43|       2|          30|  38|    44|       51|\n",
      "|    Ireland|       11|         75|      18|          46|  89|    97|       25|\n",
      "+-----------+---------+-----------+--------+------------+----+------+---------+\n",
      "\n"
     ]
    }
   ],
   "source": [
    "df = df.drop('Real coffee', 'Instant coffee', 'Tea', 'Frozen veggies', 'Potatoes', \n",
    "        'Biscuits', 'Yoghurt', 'Crisp bread', 'Frozen fish', 'Apples', \n",
    "        'Oranges', 'Garlic', 'Olive oil', 'Busquites')\n",
    "df.show()"
   ]
  },
  {
   "cell_type": "code",
   "execution_count": 74,
   "id": "1cc8844b",
   "metadata": {},
   "outputs": [
    {
     "name": "stdout",
     "output_type": "stream",
     "text": [
      "+-------+---------+-----------+--------+------------+---+------+---------+\n",
      "|Country|Sweetener|Powder soup|Tin soup|Tinned fruit|Jam|Butter|Margarine|\n",
      "+-------+---------+-----------+--------+------------+---+------+---------+\n",
      "|Germany|       19|         51|      19|          44| 71|    91|       85|\n",
      "|Austria|       15|         33|       1|          14| 41|    51|       72|\n",
      "| Sweden|       31|         43|      43|          53| 75|    68|       32|\n",
      "| Norway|       13|         51|       4|          34| 51|    63|       94|\n",
      "|Finland|       20|         27|      10|          22| 37|    96|       94|\n",
      "|Ireland|       11|         75|      18|          46| 89|    97|       25|\n",
      "+-------+---------+-----------+--------+------------+---+------+---------+\n",
      "\n"
     ]
    }
   ],
   "source": [
    "### any==how\n",
    "df.na.drop(how='any').show()"
   ]
  },
  {
   "cell_type": "code",
   "execution_count": 91,
   "id": "cad42638",
   "metadata": {},
   "outputs": [
    {
     "name": "stdout",
     "output_type": "stream",
     "text": [
      "+-----------+---------+-----------+--------+------------+----+------+---------+\n",
      "|    Country|Sweetener|Powder soup|Tin soup|Tinned fruit| Jam|Butter|Margarine|\n",
      "+-----------+---------+-----------+--------+------------+----+------+---------+\n",
      "|    Germany|       19|         51|      19|          44|  71|    91|       85|\n",
      "|      Italy|        2|       null|       3|           9|null|    66|     null|\n",
      "|     France|     null|         53|      11|        null|null|    94|       47|\n",
      "|    Holland|       32|       null|      43|          61|  81|    31|     null|\n",
      "|    Belgium|       11|         37|      23|        null|null|    84|     null|\n",
      "| Luxembourg|     null|         73|      12|          83|  20|    94|     null|\n",
      "|    England|       22|       null|      76|        null|  91|    95|       94|\n",
      "|   Portugal|     null|       null|       1|        null|  16|    65|       78|\n",
      "|    Austria|       15|         33|       1|          14|  41|    51|       72|\n",
      "|Switzerland|     null|       null|      10|          46|  61|    82|       48|\n",
      "|     Sweden|       31|         43|      43|          53|  75|    68|       32|\n",
      "|    Denmark|     null|         32|      17|          50|  64|    92|       91|\n",
      "|     Norway|       13|         51|       4|          34|  51|    63|       94|\n",
      "|    Finland|       20|         27|      10|          22|  37|    96|       94|\n",
      "|      Spain|     null|         43|       2|          30|  38|    44|       51|\n",
      "|    Ireland|       11|         75|      18|          46|  89|    97|       25|\n",
      "+-----------+---------+-----------+--------+------------+----+------+---------+\n",
      "\n"
     ]
    }
   ],
   "source": [
    "## threshold\n",
    "df.na.drop(how='any', thresh=2).show()"
   ]
  },
  {
   "cell_type": "code",
   "execution_count": 85,
   "id": "6a9e8278",
   "metadata": {},
   "outputs": [
    {
     "name": "stdout",
     "output_type": "stream",
     "text": [
      "+-------+---------+-----------+--------+------------+----+------+---------+\n",
      "|Country|Sweetener|Powder soup|Tin soup|Tinned fruit| Jam|Butter|Margarine|\n",
      "+-------+---------+-----------+--------+------------+----+------+---------+\n",
      "|Germany|       19|         51|      19|          44|  71|    91|       85|\n",
      "|  Italy|        2|       null|       3|           9|null|    66|     null|\n",
      "|Holland|       32|       null|      43|          61|  81|    31|     null|\n",
      "|Belgium|       11|         37|      23|        null|null|    84|     null|\n",
      "|England|       22|       null|      76|        null|  91|    95|       94|\n",
      "|Austria|       15|         33|       1|          14|  41|    51|       72|\n",
      "| Sweden|       31|         43|      43|          53|  75|    68|       32|\n",
      "| Norway|       13|         51|       4|          34|  51|    63|       94|\n",
      "|Finland|       20|         27|      10|          22|  37|    96|       94|\n",
      "|Ireland|       11|         75|      18|          46|  89|    97|       25|\n",
      "+-------+---------+-----------+--------+------------+----+------+---------+\n",
      "\n"
     ]
    }
   ],
   "source": [
    "# subset\n",
    "df.na.drop(how='any', subset='Sweetener').show()"
   ]
  },
  {
   "cell_type": "markdown",
   "id": "0d13d5cf",
   "metadata": {},
   "source": [
    "## 2. Fill missing values\n",
    "\n",
    "Syntax\n",
    "- `df.na.fill(value, subset=None)`\n",
    "- `df.na.fill(value, subset='col1')`\n",
    "- `df.na.fill(value, subset=['col1', 'col2', ... ])`\n",
    "  - Make sure the filling value type corresponds with that of column's data type. \n",
    "\n",
    "Fill with specific values - `Imputer`\n",
    "- `from pyspark.ml.feature import Imputer`\n",
    "- `imputer = Imputer(inputCols=['col1', 'col2', ...],`   \n",
    "    `outputCols=[\"{}_imputed\".format(c) for c in ['col1', 'col2', ... ]])`  \n",
    "    `.setStrategy('mean')`"
   ]
  },
  {
   "cell_type": "code",
   "execution_count": 97,
   "id": "500d473b",
   "metadata": {},
   "outputs": [
    {
     "name": "stdout",
     "output_type": "stream",
     "text": [
      "+-----------+---------+-----------+--------+------------+-----+------+---------+\n",
      "|    Country|Sweetener|Powder soup|Tin soup|Tinned fruit|  Jam|Butter|Margarine|\n",
      "+-----------+---------+-----------+--------+------------+-----+------+---------+\n",
      "|    Germany|       19|         51|      19|          44|   71|    91|       85|\n",
      "|      Italy|        2|      10000|       3|           9|10000|    66|    10000|\n",
      "|     France|    10000|         53|      11|       10000|10000|    94|       47|\n",
      "|    Holland|       32|      10000|      43|          61|   81|    31|    10000|\n",
      "|    Belgium|       11|         37|      23|       10000|10000|    84|    10000|\n",
      "| Luxembourg|    10000|         73|      12|          83|   20|    94|    10000|\n",
      "|    England|       22|      10000|      76|       10000|   91|    95|       94|\n",
      "|   Portugal|    10000|      10000|       1|       10000|   16|    65|       78|\n",
      "|    Austria|       15|         33|       1|          14|   41|    51|       72|\n",
      "|Switzerland|    10000|      10000|      10|          46|   61|    82|       48|\n",
      "|     Sweden|       31|         43|      43|          53|   75|    68|       32|\n",
      "|    Denmark|    10000|         32|      17|          50|   64|    92|       91|\n",
      "|     Norway|       13|         51|       4|          34|   51|    63|       94|\n",
      "|    Finland|       20|         27|      10|          22|   37|    96|       94|\n",
      "|      Spain|    10000|         43|       2|          30|   38|    44|       51|\n",
      "|    Ireland|       11|         75|      18|          46|   89|    97|       25|\n",
      "+-----------+---------+-----------+--------+------------+-----+------+---------+\n",
      "\n"
     ]
    }
   ],
   "source": [
    "# fill the missing value with givin value\n",
    "df.na.fill(10000).show()"
   ]
  },
  {
   "cell_type": "code",
   "execution_count": 98,
   "id": "52e66a62",
   "metadata": {},
   "outputs": [
    {
     "name": "stdout",
     "output_type": "stream",
     "text": [
      "+-----------+---------+-----------+--------+------------+----+------+---------+\n",
      "|    Country|Sweetener|Powder soup|Tin soup|Tinned fruit| Jam|Butter|Margarine|\n",
      "+-----------+---------+-----------+--------+------------+----+------+---------+\n",
      "|    Germany|       19|         51|      19|          44|  71|    91|       85|\n",
      "|      Italy|        2|       null|       3|           9|null|    66|     null|\n",
      "|     France|   100000|         53|      11|        null|null|    94|       47|\n",
      "|    Holland|       32|       null|      43|          61|  81|    31|     null|\n",
      "|    Belgium|       11|         37|      23|        null|null|    84|     null|\n",
      "| Luxembourg|   100000|         73|      12|          83|  20|    94|     null|\n",
      "|    England|       22|       null|      76|        null|  91|    95|       94|\n",
      "|   Portugal|   100000|       null|       1|        null|  16|    65|       78|\n",
      "|    Austria|       15|         33|       1|          14|  41|    51|       72|\n",
      "|Switzerland|   100000|       null|      10|          46|  61|    82|       48|\n",
      "|     Sweden|       31|         43|      43|          53|  75|    68|       32|\n",
      "|    Denmark|   100000|         32|      17|          50|  64|    92|       91|\n",
      "|     Norway|       13|         51|       4|          34|  51|    63|       94|\n",
      "|    Finland|       20|         27|      10|          22|  37|    96|       94|\n",
      "|      Spain|   100000|         43|       2|          30|  38|    44|       51|\n",
      "|    Ireland|       11|         75|      18|          46|  89|    97|       25|\n",
      "+-----------+---------+-----------+--------+------------+----+------+---------+\n",
      "\n"
     ]
    }
   ],
   "source": [
    "df.na.fill(100000, subset='Sweetener').show()"
   ]
  },
  {
   "cell_type": "code",
   "execution_count": 100,
   "id": "d9801c1b",
   "metadata": {},
   "outputs": [
    {
     "name": "stdout",
     "output_type": "stream",
     "text": [
      "+-----------+---------+-----------+--------+------------+------+------+---------+\n",
      "|    Country|Sweetener|Powder soup|Tin soup|Tinned fruit|   Jam|Butter|Margarine|\n",
      "+-----------+---------+-----------+--------+------------+------+------+---------+\n",
      "|    Germany|       19|         51|      19|          44|    71|    91|       85|\n",
      "|      Italy|        2|       null|       3|           9|100000|    66|   100000|\n",
      "|     France|     null|         53|      11|        null|100000|    94|       47|\n",
      "|    Holland|       32|       null|      43|          61|    81|    31|   100000|\n",
      "|    Belgium|       11|         37|      23|        null|100000|    84|   100000|\n",
      "| Luxembourg|     null|         73|      12|          83|    20|    94|   100000|\n",
      "|    England|       22|       null|      76|        null|    91|    95|       94|\n",
      "|   Portugal|     null|       null|       1|        null|    16|    65|       78|\n",
      "|    Austria|       15|         33|       1|          14|    41|    51|       72|\n",
      "|Switzerland|     null|       null|      10|          46|    61|    82|       48|\n",
      "|     Sweden|       31|         43|      43|          53|    75|    68|       32|\n",
      "|    Denmark|     null|         32|      17|          50|    64|    92|       91|\n",
      "|     Norway|       13|         51|       4|          34|    51|    63|       94|\n",
      "|    Finland|       20|         27|      10|          22|    37|    96|       94|\n",
      "|      Spain|     null|         43|       2|          30|    38|    44|       51|\n",
      "|    Ireland|       11|         75|      18|          46|    89|    97|       25|\n",
      "+-----------+---------+-----------+--------+------------+------+------+---------+\n",
      "\n"
     ]
    }
   ],
   "source": [
    "df.na.fill(100000, subset=['Margarine', 'Jam']).show()"
   ]
  },
  {
   "cell_type": "markdown",
   "id": "8eea4b47",
   "metadata": {},
   "source": [
    "### Imputer\n",
    "\n",
    "Impute by mean"
   ]
  },
  {
   "cell_type": "code",
   "execution_count": 114,
   "id": "377c7d51",
   "metadata": {},
   "outputs": [],
   "source": [
    "from pyspark.ml.feature import Imputer\n",
    "\n",
    "cols = ['Sweetener', 'Powder soup']\n",
    "\n",
    "imputer = Imputer(inputCols=cols, \n",
    "                  outputCols=[\"{}_imputed\".format(col) for col in cols]).setStrategy('mean')"
   ]
  },
  {
   "cell_type": "code",
   "execution_count": 118,
   "id": "9d6a9d34",
   "metadata": {},
   "outputs": [
    {
     "name": "stdout",
     "output_type": "stream",
     "text": [
      "+-----------+---------+-----------------+\n",
      "|    Country|Sweetener|Sweetener_imputed|\n",
      "+-----------+---------+-----------------+\n",
      "|    Germany|       19|               19|\n",
      "|      Italy|        2|                2|\n",
      "|     France|     null|               17|\n",
      "|    Holland|       32|               32|\n",
      "|    Belgium|       11|               11|\n",
      "| Luxembourg|     null|               17|\n",
      "|    England|       22|               22|\n",
      "|   Portugal|     null|               17|\n",
      "|    Austria|       15|               15|\n",
      "|Switzerland|     null|               17|\n",
      "|     Sweden|       31|               31|\n",
      "|    Denmark|     null|               17|\n",
      "|     Norway|       13|               13|\n",
      "|    Finland|       20|               20|\n",
      "|      Spain|     null|               17|\n",
      "|    Ireland|       11|               11|\n",
      "+-----------+---------+-----------------+\n",
      "\n"
     ]
    }
   ],
   "source": [
    "df_imputed = imputer.fit(df).transform(df)\n",
    "df_imputed.select('Country', 'Sweetener', 'Sweetener_imputed').show()"
   ]
  },
  {
   "cell_type": "markdown",
   "id": "e55cfd2f",
   "metadata": {},
   "source": [
    "Impute by Median"
   ]
  },
  {
   "cell_type": "code",
   "execution_count": 120,
   "id": "0a255c8a",
   "metadata": {},
   "outputs": [
    {
     "name": "stdout",
     "output_type": "stream",
     "text": [
      "+-----------+---------+-----------------+\n",
      "|    Country|Sweetener|Sweetener_imputed|\n",
      "+-----------+---------+-----------------+\n",
      "|    Germany|       19|               19|\n",
      "|      Italy|        2|                2|\n",
      "|     France|     null|               15|\n",
      "|    Holland|       32|               32|\n",
      "|    Belgium|       11|               11|\n",
      "| Luxembourg|     null|               15|\n",
      "|    England|       22|               22|\n",
      "|   Portugal|     null|               15|\n",
      "|    Austria|       15|               15|\n",
      "|Switzerland|     null|               15|\n",
      "|     Sweden|       31|               31|\n",
      "|    Denmark|     null|               15|\n",
      "|     Norway|       13|               13|\n",
      "|    Finland|       20|               20|\n",
      "|      Spain|     null|               15|\n",
      "|    Ireland|       11|               11|\n",
      "+-----------+---------+-----------------+\n",
      "\n"
     ]
    }
   ],
   "source": [
    "from pyspark.ml.feature import Imputer\n",
    "\n",
    "cols = ['Sweetener', 'Powder soup']\n",
    "\n",
    "imputer = Imputer(inputCols=cols, \n",
    "                  outputCols=[\"{}_imputed\".format(col) for col in cols]).setStrategy('median')\n",
    "df_imputed = imputer.fit(df).transform(df)\n",
    "df_imputed.select('Country', 'Sweetener', 'Sweetener_imputed').show()"
   ]
  }
 ],
 "metadata": {
  "kernelspec": {
   "display_name": "Python 3 (ipykernel)",
   "language": "python",
   "name": "python3"
  },
  "language_info": {
   "codemirror_mode": {
    "name": "ipython",
    "version": 3
   },
   "file_extension": ".py",
   "mimetype": "text/x-python",
   "name": "python",
   "nbconvert_exporter": "python",
   "pygments_lexer": "ipython3",
   "version": "3.9.7"
  }
 },
 "nbformat": 4,
 "nbformat_minor": 5
}
