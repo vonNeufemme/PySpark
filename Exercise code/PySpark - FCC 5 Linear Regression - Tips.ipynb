{
 "cells": [
  {
   "cell_type": "markdown",
   "id": "b672032b",
   "metadata": {},
   "source": [
    "# PySpark 05 Linear Regression with Tips.csv\n",
    " \n",
    "**Summary** \n",
    "- tips.csv\n",
    "- `StringIndexer`\n",
    "  - string >> ordinal encoding\n",
    "  - `(inputCol='input_col', outputCol='output_col')`\n",
    "  - `(inputCols=['col1', ... ], outputCols=['col', ...])`\n",
    "  \n",
    "- `from pyspark.ml.feature import StringIndexer`\n",
    "- `from pyspark.ml.feature import VectorAssembler`\n",
    "- `from pyspark.ml.regression import LinearRegression`"
   ]
  },
  {
   "cell_type": "markdown",
   "id": "0cadd977",
   "metadata": {},
   "source": [
    "### Setup"
   ]
  },
  {
   "cell_type": "code",
   "execution_count": 1,
   "id": "633ca557",
   "metadata": {},
   "outputs": [
    {
     "data": {
      "text/html": [
       "\n",
       "            <div>\n",
       "                <p><b>SparkSession - in-memory</b></p>\n",
       "                \n",
       "        <div>\n",
       "            <p><b>SparkContext</b></p>\n",
       "\n",
       "            <p><a href=\"http://DESKTOP-B85K7A6:4043\">Spark UI</a></p>\n",
       "\n",
       "            <dl>\n",
       "              <dt>Version</dt>\n",
       "                <dd><code>v3.2.0</code></dd>\n",
       "              <dt>Master</dt>\n",
       "                <dd><code>local[*]</code></dd>\n",
       "              <dt>AppName</dt>\n",
       "                <dd><code>filterOps</code></dd>\n",
       "            </dl>\n",
       "        </div>\n",
       "        \n",
       "            </div>\n",
       "        "
      ],
      "text/plain": [
       "<pyspark.sql.session.SparkSession at 0x228c68bb760>"
      ]
     },
     "execution_count": 1,
     "metadata": {},
     "output_type": "execute_result"
    }
   ],
   "source": [
    "import os\n",
    "import pyspark\n",
    "from pyspark.sql import SparkSession\n",
    "spark = SparkSession.builder.appName(\"filterOps\").getOrCreate()\n",
    "spark"
   ]
  },
  {
   "cell_type": "markdown",
   "id": "dc70bf38",
   "metadata": {},
   "source": [
    "### Load"
   ]
  },
  {
   "cell_type": "code",
   "execution_count": 2,
   "id": "1f4f0689",
   "metadata": {},
   "outputs": [
    {
     "data": {
      "text/plain": [
       "DataFrame[total_bill: double, tip: double, sex: string, smoker: string, day: string, time: string, size: int]"
      ]
     },
     "execution_count": 2,
     "metadata": {},
     "output_type": "execute_result"
    }
   ],
   "source": [
    "# read the dataset\n",
    "ROOT = \"C:\\\\PySpark\\\\\"\n",
    "FILE = \"./tips.csv\"\n",
    "df = spark.read.csv(ROOT+FILE, header=True, inferSchema=True)\n",
    "df"
   ]
  },
  {
   "cell_type": "code",
   "execution_count": 4,
   "id": "700140d2",
   "metadata": {},
   "outputs": [
    {
     "name": "stdout",
     "output_type": "stream",
     "text": [
      "root\n",
      " |-- total_bill: double (nullable = true)\n",
      " |-- tip: double (nullable = true)\n",
      " |-- sex: string (nullable = true)\n",
      " |-- smoker: string (nullable = true)\n",
      " |-- day: string (nullable = true)\n",
      " |-- time: string (nullable = true)\n",
      " |-- size: integer (nullable = true)\n",
      "\n"
     ]
    }
   ],
   "source": [
    "df.printSchema()"
   ]
  },
  {
   "cell_type": "code",
   "execution_count": 6,
   "id": "5ef62bcf",
   "metadata": {},
   "outputs": [
    {
     "data": {
      "text/plain": [
       "['total_bill', 'tip', 'sex', 'smoker', 'day', 'time', 'size']"
      ]
     },
     "execution_count": 6,
     "metadata": {},
     "output_type": "execute_result"
    }
   ],
   "source": [
    "df.columns"
   ]
  },
  {
   "cell_type": "markdown",
   "id": "abfd0190",
   "metadata": {},
   "source": [
    "##\n",
    "\n",
    "**Syntax**\n",
    "- `from pyspark.ml.feature import StringIndexer`"
   ]
  },
  {
   "cell_type": "code",
   "execution_count": 7,
   "id": "0c0167d2",
   "metadata": {},
   "outputs": [
    {
     "data": {
      "text/plain": [
       "StringIndexer_0b78e0a0d33b"
      ]
     },
     "execution_count": 7,
     "metadata": {},
     "output_type": "execute_result"
    }
   ],
   "source": [
    "from pyspark.ml.feature import StringIndexer\n",
    "\n",
    "indexer = StringIndexer(inputCol='sex', outputCol='sex_indexed')\n",
    "indexer"
   ]
  },
  {
   "cell_type": "code",
   "execution_count": 8,
   "id": "1cc8844b",
   "metadata": {},
   "outputs": [
    {
     "name": "stdout",
     "output_type": "stream",
     "text": [
      "+----------+----+------+------+---+------+----+-----------+\n",
      "|total_bill| tip|   sex|smoker|day|  time|size|sex_indexed|\n",
      "+----------+----+------+------+---+------+----+-----------+\n",
      "|     16.99|1.01|Female|    No|Sun|Dinner|   2|        1.0|\n",
      "|     10.34|1.66|  Male|    No|Sun|Dinner|   3|        0.0|\n",
      "|     21.01| 3.5|  Male|    No|Sun|Dinner|   3|        0.0|\n",
      "|     23.68|3.31|  Male|    No|Sun|Dinner|   2|        0.0|\n",
      "|     24.59|3.61|Female|    No|Sun|Dinner|   4|        1.0|\n",
      "|     25.29|4.71|  Male|    No|Sun|Dinner|   4|        0.0|\n",
      "|      8.77| 2.0|  Male|    No|Sun|Dinner|   2|        0.0|\n",
      "|     26.88|3.12|  Male|    No|Sun|Dinner|   4|        0.0|\n",
      "|     15.04|1.96|  Male|    No|Sun|Dinner|   2|        0.0|\n",
      "|     14.78|3.23|  Male|    No|Sun|Dinner|   2|        0.0|\n",
      "|     10.27|1.71|  Male|    No|Sun|Dinner|   2|        0.0|\n",
      "|     35.26| 5.0|Female|    No|Sun|Dinner|   4|        1.0|\n",
      "|     15.42|1.57|  Male|    No|Sun|Dinner|   2|        0.0|\n",
      "|     18.43| 3.0|  Male|    No|Sun|Dinner|   4|        0.0|\n",
      "|     14.83|3.02|Female|    No|Sun|Dinner|   2|        1.0|\n",
      "|     21.58|3.92|  Male|    No|Sun|Dinner|   2|        0.0|\n",
      "|     10.33|1.67|Female|    No|Sun|Dinner|   3|        1.0|\n",
      "|     16.29|3.71|  Male|    No|Sun|Dinner|   3|        0.0|\n",
      "|     16.97| 3.5|Female|    No|Sun|Dinner|   3|        1.0|\n",
      "|     20.65|3.35|  Male|    No|Sat|Dinner|   3|        0.0|\n",
      "+----------+----+------+------+---+------+----+-----------+\n",
      "only showing top 20 rows\n",
      "\n"
     ]
    }
   ],
   "source": [
    "df1 = indexer.fit(df).transform(df)\n",
    "df1.show()"
   ]
  },
  {
   "cell_type": "code",
   "execution_count": 11,
   "id": "5d7ce0d0",
   "metadata": {},
   "outputs": [
    {
     "name": "stdout",
     "output_type": "stream",
     "text": [
      "+----------+----+------+------+---+------+----+----------+-------+--------+\n",
      "|total_bill| tip|   sex|smoker|day|  time|size|smoker_idx|day_idx|time_idx|\n",
      "+----------+----+------+------+---+------+----+----------+-------+--------+\n",
      "|     16.99|1.01|Female|    No|Sun|Dinner|   2|       0.0|    1.0|     0.0|\n",
      "|     10.34|1.66|  Male|    No|Sun|Dinner|   3|       0.0|    1.0|     0.0|\n",
      "|     21.01| 3.5|  Male|    No|Sun|Dinner|   3|       0.0|    1.0|     0.0|\n",
      "|     23.68|3.31|  Male|    No|Sun|Dinner|   2|       0.0|    1.0|     0.0|\n",
      "|     24.59|3.61|Female|    No|Sun|Dinner|   4|       0.0|    1.0|     0.0|\n",
      "|     25.29|4.71|  Male|    No|Sun|Dinner|   4|       0.0|    1.0|     0.0|\n",
      "|      8.77| 2.0|  Male|    No|Sun|Dinner|   2|       0.0|    1.0|     0.0|\n",
      "|     26.88|3.12|  Male|    No|Sun|Dinner|   4|       0.0|    1.0|     0.0|\n",
      "|     15.04|1.96|  Male|    No|Sun|Dinner|   2|       0.0|    1.0|     0.0|\n",
      "|     14.78|3.23|  Male|    No|Sun|Dinner|   2|       0.0|    1.0|     0.0|\n",
      "|     10.27|1.71|  Male|    No|Sun|Dinner|   2|       0.0|    1.0|     0.0|\n",
      "|     35.26| 5.0|Female|    No|Sun|Dinner|   4|       0.0|    1.0|     0.0|\n",
      "|     15.42|1.57|  Male|    No|Sun|Dinner|   2|       0.0|    1.0|     0.0|\n",
      "|     18.43| 3.0|  Male|    No|Sun|Dinner|   4|       0.0|    1.0|     0.0|\n",
      "|     14.83|3.02|Female|    No|Sun|Dinner|   2|       0.0|    1.0|     0.0|\n",
      "|     21.58|3.92|  Male|    No|Sun|Dinner|   2|       0.0|    1.0|     0.0|\n",
      "|     10.33|1.67|Female|    No|Sun|Dinner|   3|       0.0|    1.0|     0.0|\n",
      "|     16.29|3.71|  Male|    No|Sun|Dinner|   3|       0.0|    1.0|     0.0|\n",
      "|     16.97| 3.5|Female|    No|Sun|Dinner|   3|       0.0|    1.0|     0.0|\n",
      "|     20.65|3.35|  Male|    No|Sat|Dinner|   3|       0.0|    0.0|     0.0|\n",
      "+----------+----+------+------+---+------+----+----------+-------+--------+\n",
      "only showing top 20 rows\n",
      "\n"
     ]
    }
   ],
   "source": [
    "indexer = StringIndexer(inputCols=['smoker', 'day', 'time'], \n",
    "                        outputCols=['smoker_idx', 'day_idx', 'time_idx'])\n",
    "df_sm = indexer.fit(df).transform(df)\n",
    "df_sm.show()"
   ]
  },
  {
   "cell_type": "code",
   "execution_count": 13,
   "id": "b4112735",
   "metadata": {},
   "outputs": [],
   "source": [
    "from pyspark.ml.feature import VectorAssembler\n",
    "va = VectorAssembler(inputCols=['tip', 'size', 'smoker_idx', 'day_idx', 'time_idx'],\n",
    "               outputCol='ind features')\n",
    "output = va.transform(df_sm)"
   ]
  },
  {
   "cell_type": "code",
   "execution_count": 14,
   "id": "250fc4f9",
   "metadata": {},
   "outputs": [
    {
     "name": "stdout",
     "output_type": "stream",
     "text": [
      "+--------------------+\n",
      "|        ind features|\n",
      "+--------------------+\n",
      "|[1.01,2.0,0.0,1.0...|\n",
      "|[1.66,3.0,0.0,1.0...|\n",
      "|[3.5,3.0,0.0,1.0,...|\n",
      "|[3.31,2.0,0.0,1.0...|\n",
      "|[3.61,4.0,0.0,1.0...|\n",
      "|[4.71,4.0,0.0,1.0...|\n",
      "|[2.0,2.0,0.0,1.0,...|\n",
      "|[3.12,4.0,0.0,1.0...|\n",
      "|[1.96,2.0,0.0,1.0...|\n",
      "|[3.23,2.0,0.0,1.0...|\n",
      "|[1.71,2.0,0.0,1.0...|\n",
      "|[5.0,4.0,0.0,1.0,...|\n",
      "|[1.57,2.0,0.0,1.0...|\n",
      "|[3.0,4.0,0.0,1.0,...|\n",
      "|[3.02,2.0,0.0,1.0...|\n",
      "|[3.92,2.0,0.0,1.0...|\n",
      "|[1.67,3.0,0.0,1.0...|\n",
      "|[3.71,3.0,0.0,1.0...|\n",
      "|[3.5,3.0,0.0,1.0,...|\n",
      "|(5,[0,1],[3.35,3.0])|\n",
      "+--------------------+\n",
      "only showing top 20 rows\n",
      "\n"
     ]
    }
   ],
   "source": [
    "output.select('ind features').show()"
   ]
  },
  {
   "cell_type": "code",
   "execution_count": 18,
   "id": "e815af46",
   "metadata": {},
   "outputs": [
    {
     "name": "stdout",
     "output_type": "stream",
     "text": [
      "+--------------------+----------+\n",
      "|        ind features|total_bill|\n",
      "+--------------------+----------+\n",
      "|[1.01,2.0,0.0,1.0...|     16.99|\n",
      "|[1.66,3.0,0.0,1.0...|     10.34|\n",
      "|[3.5,3.0,0.0,1.0,...|     21.01|\n",
      "|[3.31,2.0,0.0,1.0...|     23.68|\n",
      "|[3.61,4.0,0.0,1.0...|     24.59|\n",
      "+--------------------+----------+\n",
      "only showing top 5 rows\n",
      "\n"
     ]
    }
   ],
   "source": [
    "final_data = output.select('ind features', 'total_bill')\n",
    "final_data.show(5)"
   ]
  },
  {
   "cell_type": "code",
   "execution_count": 19,
   "id": "f2dc8f50",
   "metadata": {},
   "outputs": [],
   "source": [
    "from pyspark.ml.regression import LinearRegression\n",
    "train, test = final_data.randomSplit([0.75, 0.25])\n",
    "regressor = LinearRegression(featuresCol='ind features', labelCol='total_bill')\n",
    "regressor = regressor.fit(train)"
   ]
  },
  {
   "cell_type": "code",
   "execution_count": 20,
   "id": "d8432005",
   "metadata": {},
   "outputs": [
    {
     "data": {
      "text/plain": [
       "DenseVector([3.0988, 3.4418, 2.047, -0.4008, -0.5887])"
      ]
     },
     "execution_count": 20,
     "metadata": {},
     "output_type": "execute_result"
    }
   ],
   "source": [
    "regressor.coefficients"
   ]
  },
  {
   "cell_type": "code",
   "execution_count": 21,
   "id": "1f4f2e8e",
   "metadata": {},
   "outputs": [
    {
     "data": {
      "text/plain": [
       "1.1107412013182494"
      ]
     },
     "execution_count": 21,
     "metadata": {},
     "output_type": "execute_result"
    }
   ],
   "source": [
    "regressor.intercept"
   ]
  },
  {
   "cell_type": "code",
   "execution_count": 22,
   "id": "ce2e4e2f",
   "metadata": {},
   "outputs": [],
   "source": [
    "pred = regressor.evaluate(test)"
   ]
  },
  {
   "cell_type": "code",
   "execution_count": 27,
   "id": "4f85e016",
   "metadata": {},
   "outputs": [
    {
     "name": "stdout",
     "output_type": "stream",
     "text": [
      "+--------------------+----------+------------------+\n",
      "|        ind features|total_bill|        prediction|\n",
      "+--------------------+----------+------------------+\n",
      "|(5,[0,1],[1.47,2.0])|     10.77| 12.54961501617368|\n",
      "| (5,[0,1],[1.5,2.0])|     26.41|12.642579285736087|\n",
      "|(5,[0,1],[1.75,2.0])|     17.82|13.417281532089461|\n",
      "|(5,[0,1],[1.97,2.0])|     12.02|14.099019508880431|\n",
      "| (5,[0,1],[2.0,3.0])|     16.31|17.633796081591626|\n",
      "|(5,[0,1],[2.23,2.0])|     15.77|14.904709845087941|\n",
      "|(5,[0,1],[2.31,3.0])|     18.69|18.594426867069814|\n",
      "| (5,[0,1],[3.0,2.0])|     15.06|17.290792763856334|\n",
      "|(5,[0,1],[3.15,3.0])|     20.08| 21.19742641481715|\n",
      "|(5,[0,1],[3.18,2.0])|     19.82|17.848578381230766|\n",
      "|(5,[0,1],[3.27,2.0])|     17.78|18.127471189917976|\n",
      "|(5,[0,1],[3.76,2.0])|     18.24|19.645887592770592|\n",
      "|(5,[0,1],[4.67,3.0])|     35.83| 25.90761607264567|\n",
      "|[1.0,2.0,1.0,0.0,...|      12.6|13.140142709099358|\n",
      "|[1.01,2.0,0.0,1.0...|     16.99| 10.72340990342304|\n",
      "|[1.1,2.0,1.0,0.0,...|      12.9| 13.45002360764071|\n",
      "|[1.17,2.0,1.0,0.0...|     32.83|13.666940236619654|\n",
      "|[1.44,2.0,0.0,2.0...|      7.56|11.066462182102939|\n",
      "|[1.64,2.0,1.0,0.0...|     15.36|15.123380459763997|\n",
      "|[1.67,3.0,0.0,1.0...|     10.33|16.210436136944743|\n",
      "+--------------------+----------+------------------+\n",
      "only showing top 20 rows\n",
      "\n"
     ]
    }
   ],
   "source": [
    "# Final comparison\n",
    "pred.predictions.show()"
   ]
  },
  {
   "cell_type": "code",
   "execution_count": 25,
   "id": "4cf61520",
   "metadata": {},
   "outputs": [
    {
     "data": {
      "text/plain": [
       "(0.5174710648236165, 4.211872694982243, 35.900187891538586)"
      ]
     },
     "execution_count": 25,
     "metadata": {},
     "output_type": "execute_result"
    }
   ],
   "source": [
    "pred.r2, pred.meanAbsoluteError, pred.meanSquaredError"
   ]
  }
 ],
 "metadata": {
  "kernelspec": {
   "display_name": "Python 3 (ipykernel)",
   "language": "python",
   "name": "python3"
  },
  "language_info": {
   "codemirror_mode": {
    "name": "ipython",
    "version": 3
   },
   "file_extension": ".py",
   "mimetype": "text/x-python",
   "name": "python",
   "nbconvert_exporter": "python",
   "pygments_lexer": "ipython3",
   "version": "3.9.7"
  }
 },
 "nbformat": 4,
 "nbformat_minor": 5
}
